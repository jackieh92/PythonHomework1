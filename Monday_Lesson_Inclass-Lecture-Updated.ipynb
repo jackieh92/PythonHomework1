{
 "cells": [
  {
   "cell_type": "markdown",
   "metadata": {},
   "source": [
    "# Week 2 - Monday Lesson (variable assignment, loops, lists)"
   ]
  },
  {
   "cell_type": "markdown",
   "metadata": {},
   "source": [
    "## Tasks Today:\n",
    "\n",
    "1) Int & Float assignments <br>\n",
    " &nbsp;&nbsp;&nbsp;&nbsp; a) Assigning int <br>\n",
    " &nbsp;&nbsp;&nbsp;&nbsp; b) Assigning float <br>\n",
    " &nbsp;&nbsp;&nbsp;&nbsp; c) Performing Calculations on ints and floats <br>\n",
    " &nbsp;&nbsp;&nbsp;&nbsp;&nbsp;&nbsp;&nbsp;&nbsp; - Addition <br>\n",
    " &nbsp;&nbsp;&nbsp;&nbsp;&nbsp;&nbsp;&nbsp;&nbsp; - Subtraction <br>\n",
    " &nbsp;&nbsp;&nbsp;&nbsp;&nbsp;&nbsp;&nbsp;&nbsp; - Multiplication <br>\n",
    " &nbsp;&nbsp;&nbsp;&nbsp;&nbsp;&nbsp;&nbsp;&nbsp; - Division <br>\n",
    " &nbsp;&nbsp;&nbsp;&nbsp;&nbsp;&nbsp;&nbsp;&nbsp; - Floor Division <br>\n",
    " &nbsp;&nbsp;&nbsp;&nbsp;&nbsp;&nbsp;&nbsp;&nbsp; - Modulo <br>\n",
    " &nbsp;&nbsp;&nbsp;&nbsp;&nbsp;&nbsp;&nbsp;&nbsp; - Exponential <br>\n",
    "2) String Input-Output <br>\n",
    " &nbsp;&nbsp;&nbsp;&nbsp; a) String Assignment <br>\n",
    " &nbsp;&nbsp;&nbsp;&nbsp; b) print() <br>\n",
    " &nbsp;&nbsp;&nbsp;&nbsp; c) String Concatenation <br>\n",
    " &nbsp;&nbsp;&nbsp;&nbsp; d) Type Conversion <br>\n",
    " &nbsp;&nbsp;&nbsp;&nbsp; e) input() <br>\n",
    " &nbsp;&nbsp;&nbsp;&nbsp; f) format() <br>\n",
    " &nbsp;&nbsp;&nbsp;&nbsp; g) Old Way (python 2) <br>\n",
    "3) <b>In-Class Exercise #1</b> <br>\n",
    "4) If Statements <br>\n",
    " &nbsp;&nbsp;&nbsp;&nbsp; a) 'is' keyword <br>\n",
    " &nbsp;&nbsp;&nbsp;&nbsp; b) 'in' keyword <br>\n",
    " &nbsp;&nbsp;&nbsp;&nbsp; c) 'not in' keyword <br>\n",
    "5) <b>In-Class Exercise #2</b> <br>\n",
    "6) Elif Statements <br>\n",
    "7) Else Statements <br>\n",
    "8) <b>In-Class Exercise #3</b> <br>\n",
    "9) For Loops <br>\n",
    " &nbsp;&nbsp;&nbsp;&nbsp; a) Using 'in' keyword <br>\n",
    " &nbsp;&nbsp;&nbsp;&nbsp; b) Continue Statement <br>\n",
    " &nbsp;&nbsp;&nbsp;&nbsp; c) Break Statement <br>\n",
    " &nbsp;&nbsp;&nbsp;&nbsp; d) Pass Statement <br>\n",
    " &nbsp;&nbsp;&nbsp;&nbsp; e) Double For Loops <br>\n",
    "10) While Loops <br>\n",
    " &nbsp;&nbsp;&nbsp;&nbsp; a) Looping 'While True' <br>\n",
    " &nbsp;&nbsp;&nbsp;&nbsp; b) While and For Loops Used Together <br>\n",
    "11) Built-In Functions <br>\n",
    " &nbsp;&nbsp;&nbsp;&nbsp; a) range() <br>\n",
    " &nbsp;&nbsp;&nbsp;&nbsp; b) len() <br>\n",
    " &nbsp;&nbsp;&nbsp;&nbsp; c) help() <br>\n",
    " &nbsp;&nbsp;&nbsp;&nbsp; d) isinstance() <br>\n",
    " &nbsp;&nbsp;&nbsp;&nbsp; e) abs() <br>\n",
    "12) Try and Except <br>\n",
    "13) Lists <br>\n",
    " &nbsp;&nbsp;&nbsp;&nbsp; a) Declaring Lists <br>\n",
    " &nbsp;&nbsp;&nbsp;&nbsp; b) Indexing a List <br>\n",
    " &nbsp;&nbsp;&nbsp;&nbsp; c) .append() <br>\n",
    " &nbsp;&nbsp;&nbsp;&nbsp; d) .insert() <br>\n",
    " &nbsp;&nbsp;&nbsp;&nbsp; e) .pop() <br>\n",
    " &nbsp;&nbsp;&nbsp;&nbsp; f) .remove() <br>\n",
    " &nbsp;&nbsp;&nbsp;&nbsp; g) del() <br>\n",
    " &nbsp;&nbsp;&nbsp;&nbsp; h) Concatenating Two Lists <br>\n",
    " &nbsp;&nbsp;&nbsp;&nbsp; i) Lists Within Lists <br>\n",
    " &nbsp;&nbsp;&nbsp;&nbsp; j) Looping Through Lists <br>"
   ]
  },
  {
   "cell_type": "markdown",
   "metadata": {},
   "source": [
    "### Int & Float Assignments"
   ]
  },
  {
   "cell_type": "markdown",
   "metadata": {},
   "source": [
    "##### Assigning int"
   ]
  },
  {
   "cell_type": "code",
   "execution_count": 2,
   "metadata": {},
   "outputs": [
    {
     "name": "stdout",
     "output_type": "stream",
     "text": [
      "6\n"
     ]
    }
   ],
   "source": [
    "number = 6\n",
    "\n",
    "print(number)"
   ]
  },
  {
   "cell_type": "markdown",
   "metadata": {},
   "source": [
    "##### Assinging float"
   ]
  },
  {
   "cell_type": "code",
   "execution_count": null,
   "metadata": {},
   "outputs": [],
   "source": [
    "number_float = 2.3\n",
    "print(number_float)\n"
   ]
  },
  {
   "cell_type": "markdown",
   "metadata": {},
   "source": [
    "#### Performing Calculations on ints and floats"
   ]
  },
  {
   "cell_type": "markdown",
   "metadata": {},
   "source": [
    "##### Addition"
   ]
  },
  {
   "cell_type": "code",
   "execution_count": 4,
   "metadata": {},
   "outputs": [
    {
     "name": "stdout",
     "output_type": "stream",
     "text": [
      "7.4\n",
      "9.4\n"
     ]
    }
   ],
   "source": [
    "num1 = 2\n",
    "num2= 5.4\n",
    "\n",
    "result = num1 + num2\n",
    "\n",
    "print(result)\n",
    "\n",
    "result +=2\n",
    "print(result)"
   ]
  },
  {
   "cell_type": "markdown",
   "metadata": {},
   "source": [
    "##### Subtraction"
   ]
  },
  {
   "cell_type": "code",
   "execution_count": 6,
   "metadata": {},
   "outputs": [
    {
     "name": "stdout",
     "output_type": "stream",
     "text": [
      "3.4000000000000004\n",
      "2.4000000000000004\n"
     ]
    }
   ],
   "source": [
    "result_diff = num2 - num1\n",
    "print(result_diff)\n",
    "\n",
    "result_diff -= 1\n",
    "print(result_diff)"
   ]
  },
  {
   "cell_type": "markdown",
   "metadata": {},
   "source": [
    "##### Multiplication"
   ]
  },
  {
   "cell_type": "code",
   "execution_count": 9,
   "metadata": {},
   "outputs": [
    {
     "name": "stdout",
     "output_type": "stream",
     "text": [
      "10.8\n",
      "21.6\n"
     ]
    }
   ],
   "source": [
    "result_mul = num1 * num2\n",
    "print(result_mul)\n",
    "\n",
    "result_mul *=2\n",
    "print(result_mul)"
   ]
  },
  {
   "cell_type": "markdown",
   "metadata": {},
   "source": [
    "##### Division"
   ]
  },
  {
   "cell_type": "code",
   "execution_count": 10,
   "metadata": {},
   "outputs": [
    {
     "name": "stdout",
     "output_type": "stream",
     "text": [
      "2.7\n",
      "1.35\n"
     ]
    }
   ],
   "source": [
    "    result_div = num2/num1\n",
    "    print(result_div)\n",
    "    \n",
    "    result_div /=2\n",
    "    print(result_div)"
   ]
  },
  {
   "cell_type": "markdown",
   "metadata": {},
   "source": [
    "##### Floor Division"
   ]
  },
  {
   "cell_type": "code",
   "execution_count": 11,
   "metadata": {},
   "outputs": [
    {
     "name": "stdout",
     "output_type": "stream",
     "text": [
      "2.0\n"
     ]
    }
   ],
   "source": [
    "result_floor = num2 //num1\n",
    "print(result_floor)"
   ]
  },
  {
   "cell_type": "markdown",
   "metadata": {},
   "source": [
    "##### Modulo"
   ]
  },
  {
   "cell_type": "code",
   "execution_count": 12,
   "metadata": {},
   "outputs": [
    {
     "name": "stdout",
     "output_type": "stream",
     "text": [
      "1.4000000000000004\n"
     ]
    }
   ],
   "source": [
    "result_mod = num2%num1\n",
    "print(result_mod)"
   ]
  },
  {
   "cell_type": "markdown",
   "metadata": {},
   "source": [
    "##### Exponential"
   ]
  },
  {
   "cell_type": "code",
   "execution_count": 13,
   "metadata": {},
   "outputs": [
    {
     "name": "stdout",
     "output_type": "stream",
     "text": [
      "25\n"
     ]
    }
   ],
   "source": [
    "square = 5**2\n",
    "print(square)"
   ]
  },
  {
   "cell_type": "markdown",
   "metadata": {},
   "source": [
    "### String Input-Output"
   ]
  },
  {
   "cell_type": "markdown",
   "metadata": {},
   "source": [
    "##### String Assignment"
   ]
  },
  {
   "cell_type": "code",
   "execution_count": 14,
   "metadata": {},
   "outputs": [
    {
     "name": "stdout",
     "output_type": "stream",
     "text": [
      "jackie\n"
     ]
    }
   ],
   "source": [
    "name = \"jackie\"\n",
    "print(name)"
   ]
  },
  {
   "cell_type": "markdown",
   "metadata": {},
   "source": [
    "##### print() <br>\n",
    "<p>Don't forget about end=' '</p>"
   ]
  },
  {
   "cell_type": "code",
   "execution_count": 17,
   "metadata": {},
   "outputs": [
    {
     "name": "stdout",
     "output_type": "stream",
     "text": [
      "This is my first name:  jackie\n",
      "Full name: jackieHoltsnider"
     ]
    }
   ],
   "source": [
    "print(\"This is my first name: \", name)\n",
    "print(\"Full name:\", name, end=\"Holtsnider\")"
   ]
  },
  {
   "cell_type": "markdown",
   "metadata": {},
   "source": [
    "##### String Concatenation"
   ]
  },
  {
   "cell_type": "code",
   "execution_count": 22,
   "metadata": {},
   "outputs": [
    {
     "name": "stdout",
     "output_type": "stream",
     "text": [
      "John Smith\n"
     ]
    }
   ],
   "source": [
    "first_name = \"John\"\n",
    "last_name = \"Smith\"\n",
    "\n",
    "full_name = first_name + \" \" + last_name\n",
    "print(full_name)"
   ]
  },
  {
   "cell_type": "markdown",
   "metadata": {},
   "source": [
    "##### Type Conversion"
   ]
  },
  {
   "cell_type": "code",
   "execution_count": 27,
   "metadata": {},
   "outputs": [
    {
     "name": "stdout",
     "output_type": "stream",
     "text": [
      "37.0\n",
      "37.5\n"
     ]
    }
   ],
   "source": [
    "number = \"32\"\n",
    "\n",
    "change_type_float = float(number)\n",
    "change_type_float += 5\n",
    "print(change_type_float)\n",
    "\n",
    "change_type_int = int(number)\n",
    "change_type_int +=5.5\n",
    "print(change_type_int)"
   ]
  },
  {
   "cell_type": "markdown",
   "metadata": {},
   "source": [
    "##### input()"
   ]
  },
  {
   "cell_type": "code",
   "execution_count": 30,
   "metadata": {},
   "outputs": [
    {
     "name": "stdout",
     "output_type": "stream",
     "text": [
      "What is yourage?30\n",
      "30\n",
      "31\n"
     ]
    }
   ],
   "source": [
    "age = int(input(\"What is yourage?\"))\n",
    "print(age)\n",
    "\n",
    "add_age = age + 1\n",
    "print(add_age)\n"
   ]
  },
  {
   "cell_type": "markdown",
   "metadata": {},
   "source": [
    "##### format()"
   ]
  },
  {
   "cell_type": "code",
   "execution_count": 34,
   "metadata": {},
   "outputs": [
    {
     "name": "stdout",
     "output_type": "stream",
     "text": [
      "What is your age30\n",
      "You are 30 and you are getting old!\n",
      "30 is a great time!!\n"
     ]
    }
   ],
   "source": [
    "# ask user for age\n",
    "age = input(\"What is your age\")\n",
    "result_string = \"You are {} and you are getting old!\".format(age)\n",
    "print(result_string)\n",
    "\n",
    "result_again = f\"{age} is a great time!!\"\n",
    "print(result_again)\n"
   ]
  },
  {
   "cell_type": "markdown",
   "metadata": {},
   "source": [
    "##### Old Way (python 2)"
   ]
  },
  {
   "cell_type": "code",
   "execution_count": 36,
   "metadata": {},
   "outputs": [
    {
     "name": "stdout",
     "output_type": "stream",
     "text": [
      "You are 30 and you look great for your age!\n"
     ]
    }
   ],
   "source": [
    "# using the % sign to format strings in python 2\n",
    "# %d = digit, %s = string, %i = int\n",
    "result_string2 = \"You are %s and you look great for your age!\" %age\n",
    "print(result_string2)"
   ]
  },
  {
   "cell_type": "markdown",
   "metadata": {},
   "source": [
    "# In-Class Exercise 1 <br>\n",
    "<p>Create a format statement that asks for color, year, make, model and prints out the results</p>"
   ]
  },
  {
   "cell_type": "code",
   "execution_count": 10,
   "metadata": {},
   "outputs": [
    {
     "name": "stdout",
     "output_type": "stream",
     "text": [
      " What is the color of your caryellow\n",
      "what is the year of your car1992\n",
      " What is the make of your carhonda\n",
      "what is the model of your carcivic\n"
     ]
    },
    {
     "ename": "NameError",
     "evalue": "name 'model' is not defined",
     "output_type": "error",
     "traceback": [
      "\u001b[1;31m---------------------------------------------------------------------------\u001b[0m",
      "\u001b[1;31mNameError\u001b[0m                                 Traceback (most recent call last)",
      "\u001b[1;32m<ipython-input-10-a28d9a2cc2ac>\u001b[0m in \u001b[0;36m<module>\u001b[1;34m\u001b[0m\n\u001b[0;32m      3\u001b[0m \u001b[0mcolor\u001b[0m \u001b[1;33m=\u001b[0m \u001b[0minput\u001b[0m\u001b[1;33m(\u001b[0m\u001b[1;34m\" What is the make of your car\"\u001b[0m\u001b[1;33m)\u001b[0m\u001b[1;33m\u001b[0m\u001b[1;33m\u001b[0m\u001b[0m\n\u001b[0;32m      4\u001b[0m \u001b[0myear\u001b[0m \u001b[1;33m=\u001b[0m \u001b[0minput\u001b[0m\u001b[1;33m(\u001b[0m \u001b[1;34m\"what is the model of your car\"\u001b[0m\u001b[1;33m)\u001b[0m\u001b[1;33m\u001b[0m\u001b[1;33m\u001b[0m\u001b[0m\n\u001b[1;32m----> 5\u001b[1;33m \u001b[0mresult\u001b[0m \u001b[1;33m=\u001b[0m \u001b[1;34mf\"Let me see if I got this right.  You have a {color} {year} {model} {make}\"\u001b[0m\u001b[1;33m\u001b[0m\u001b[1;33m\u001b[0m\u001b[0m\n\u001b[0m\u001b[0;32m      6\u001b[0m \u001b[0mprint\u001b[0m\u001b[1;33m(\u001b[0m\u001b[0mresult\u001b[0m\u001b[1;33m)\u001b[0m\u001b[1;33m\u001b[0m\u001b[1;33m\u001b[0m\u001b[0m\n",
      "\u001b[1;31mNameError\u001b[0m: name 'model' is not defined"
     ]
    }
   ],
   "source": [
    "color = input(\" What is the color of your car\")\n",
    "year = input( \"what is the year of your car\")\n",
    "color = input(\" What is the make of your car\")\n",
    "year = input( \"what is the model of your car\")\n",
    "result = f\"Let me see if I got this right.  You have a {color} {year} {model} {make}\"\n",
    "print(result)\n"
   ]
  },
  {
   "cell_type": "markdown",
   "metadata": {},
   "source": [
    "### If Statements"
   ]
  },
  {
   "cell_type": "code",
   "execution_count": 9,
   "metadata": {},
   "outputs": [
    {
     "name": "stdout",
     "output_type": "stream",
     "text": [
      "Not Equal\n",
      "Num2 is greater\n"
     ]
    }
   ],
   "source": [
    "num1 = 5\n",
    "num2 = 10\n",
    "\n",
    "if num2 == num1:\n",
    "    print(\"Equal Values\")\n",
    "else:\n",
    "    print(\"Not Equal\")\n",
    "if num2 >= num1:\n",
    "    print(\"Num2 is greater\")\n",
    "# Available operators: greater (>), Less(<), equal(==)\n",
    "#Greater or equal (>=). less or equal(<=)\n",
    "#Truth Tree:\n",
    "#T && F = F\n",
    "#T && T = T\n",
    "#T // F = T\n",
    "#F//T = T\n",
    "#F//F = F"
   ]
  },
  {
   "cell_type": "markdown",
   "metadata": {},
   "source": [
    "##### 'is' keyword"
   ]
  },
  {
   "cell_type": "code",
   "execution_count": 16,
   "metadata": {},
   "outputs": [
    {
     "name": "stdout",
     "output_type": "stream",
     "text": [
      "This is the number\n",
      "Not correct\n"
     ]
    }
   ],
   "source": [
    "# use is when checking for same object, not same value\n",
    "num3 = 55\n",
    "if num3 == 55:\n",
    "    print(\"This is the number\")\n",
    "\n",
    "demo_phrase = \"This is a test.\"\n",
    "if \"M\" == demo_phrase:\n",
    "    print(\"Correct\")\n",
    "else:\n",
    "    print(\"Not correct\")"
   ]
  },
  {
   "cell_type": "markdown",
   "metadata": {},
   "source": [
    "##### 'in' keyword"
   ]
  },
  {
   "cell_type": "code",
   "execution_count": 17,
   "metadata": {},
   "outputs": [
    {
     "name": "stdout",
     "output_type": "stream",
     "text": [
      "The character who lost everything...\n"
     ]
    }
   ],
   "source": [
    "# check if char in name\n",
    "char_name = \"Max Payne\"\n",
    "\n",
    "if \"Max\" in char_name:\n",
    "    print(\"The character who lost everything...\")\n",
    "\n"
   ]
  },
  {
   "cell_type": "markdown",
   "metadata": {},
   "source": [
    "##### 'not in' keyword'"
   ]
  },
  {
   "cell_type": "code",
   "execution_count": 18,
   "metadata": {},
   "outputs": [
    {
     "name": "stdout",
     "output_type": "stream",
     "text": [
      "a is NOT here....\n"
     ]
    }
   ],
   "source": [
    "sega_char = \"Sonic\"\n",
    "\n",
    "if 'a' not in  sega_char:\n",
    "    print(\"a is NOT here....\")"
   ]
  },
  {
   "cell_type": "markdown",
   "metadata": {},
   "source": [
    "# In-Class Exercise 2 <br>\n",
    "<p>Ask user for input, check to see if the letter 'p' is in the input</p>"
   ]
  },
  {
   "cell_type": "code",
   "execution_count": 24,
   "metadata": {},
   "outputs": [
    {
     "name": "stdout",
     "output_type": "stream",
     "text": [
      "Please tell me your namejason\n",
      "What a lovely name you have!\n"
     ]
    }
   ],
   "source": [
    "name = input(\"Please tell me your name\")\n",
    "if 'p' in name:\n",
    "    print(\"You have a P in your name!\")\n",
    "else: \n",
    "    print(\"What a lovely name you have!\")\n",
    "    "
   ]
  },
  {
   "cell_type": "markdown",
   "metadata": {},
   "source": [
    "## Using 'and'/'or' with If Statements"
   ]
  },
  {
   "cell_type": "code",
   "execution_count": 26,
   "metadata": {},
   "outputs": [
    {
     "name": "stdout",
     "output_type": "stream",
     "text": [
      "True and true\n",
      "True and False\n"
     ]
    }
   ],
   "source": [
    "# when using 'and' keyword, checks to see if true and true\n",
    "num11 = 15\n",
    "num12 = 3\n",
    "num13 = 10\n",
    "num14 = 3\n",
    "\n",
    "# If with and statement\n",
    "if num11 / 5 == num12 and num13 -7 == num14:\n",
    "    print(\"True and true\")\n",
    "    \n",
    "# If with or statement\n",
    "if num11 > num12 or num13 == num14:\n",
    "    print(\"True and False\")"
   ]
  },
  {
   "cell_type": "markdown",
   "metadata": {},
   "source": [
    "### Elif Statements"
   ]
  },
  {
   "cell_type": "code",
   "execution_count": 27,
   "metadata": {},
   "outputs": [
    {
     "name": "stdout",
     "output_type": "stream",
     "text": [
      "The name IS max\n"
     ]
    }
   ],
   "source": [
    "first_name = \"Max\"\n",
    "\n",
    "if first_name == \"Smith\":\n",
    "    print(\"The name is Smith\")\n",
    "elif first_name != \"Max\":\n",
    "    print(\"The name is NOT Max\")\n",
    "else:\n",
    "    print(\"The name IS max\")"
   ]
  },
  {
   "cell_type": "markdown",
   "metadata": {},
   "source": [
    "### Else Statements"
   ]
  },
  {
   "cell_type": "code",
   "execution_count": null,
   "metadata": {},
   "outputs": [],
   "source": [
    "# see above"
   ]
  },
  {
   "cell_type": "markdown",
   "metadata": {},
   "source": [
    "### For Loops"
   ]
  },
  {
   "cell_type": "code",
   "execution_count": 28,
   "metadata": {},
   "outputs": [
    {
     "name": "stdout",
     "output_type": "stream",
     "text": [
      "J\n",
      "a\n",
      "c\n",
      "k\n",
      "i\n",
      "e\n",
      " \n",
      "R\n",
      "a\n",
      "y\n",
      "e\n"
     ]
    }
   ],
   "source": [
    "# for keyword, counter, in keyword, condition\n",
    "\n",
    "# for i in range(10):\n",
    "#     print(i)\n",
    "name = \"Jackie Raye\"\n",
    "for letter in name:\n",
    "    print(letter)\n",
    "\n",
    "\n",
    "\n",
    "\n"
   ]
  },
  {
   "cell_type": "markdown",
   "metadata": {},
   "source": [
    "##### Using 'in' keyword"
   ]
  },
  {
   "cell_type": "code",
   "execution_count": null,
   "metadata": {},
   "outputs": [],
   "source": [
    "# see above"
   ]
  },
  {
   "cell_type": "markdown",
   "metadata": {},
   "source": [
    "##### Continue Statement"
   ]
  },
  {
   "cell_type": "code",
   "execution_count": null,
   "metadata": {},
   "outputs": [],
   "source": [
    "# will continue to next iteration"
   ]
  },
  {
   "cell_type": "code",
   "execution_count": 29,
   "metadata": {},
   "outputs": [
    {
     "name": "stdout",
     "output_type": "stream",
     "text": [
      "0\n",
      "1\n",
      "2\n",
      "3\n",
      "4\n",
      "6\n",
      "7\n",
      "8\n",
      "9\n"
     ]
    }
   ],
   "source": [
    "for i in range(10):\n",
    "    if i==5:\n",
    "        continue\n",
    "    print(i)"
   ]
  },
  {
   "cell_type": "markdown",
   "metadata": {},
   "source": [
    "##### Break Statement"
   ]
  },
  {
   "cell_type": "code",
   "execution_count": null,
   "metadata": {},
   "outputs": [],
   "source": [
    "# will break out of current loop"
   ]
  },
  {
   "cell_type": "code",
   "execution_count": 31,
   "metadata": {},
   "outputs": [
    {
     "name": "stdout",
     "output_type": "stream",
     "text": [
      "0\n",
      "More numbers: \n",
      "\n",
      "More numbers: \n",
      "\n",
      "More numbers: \n",
      "\n",
      "More numbers: \n",
      "\n",
      "More numbers: \n",
      "\n",
      "1\n",
      "More numbers: \n",
      "\n",
      "More numbers: \n",
      "\n",
      "More numbers: \n",
      "\n",
      "More numbers: \n",
      "\n",
      "More numbers: \n",
      "\n",
      "2\n",
      "More numbers: \n",
      "\n",
      "More numbers: \n",
      "\n",
      "More numbers: \n",
      "\n",
      "More numbers: \n",
      "\n",
      "More numbers: \n",
      "\n",
      "3\n",
      "More numbers: \n",
      "\n",
      "More numbers: \n",
      "\n",
      "More numbers: \n",
      "\n",
      "More numbers: \n",
      "\n",
      "More numbers: \n",
      "\n",
      "4\n",
      "More numbers: \n",
      "\n",
      "More numbers: \n",
      "\n",
      "More numbers: \n",
      "\n",
      "More numbers: \n",
      "\n",
      "More numbers: \n",
      "\n"
     ]
    }
   ],
   "source": [
    "for i in range(20):\n",
    "    if i == 5:\n",
    "        break\n",
    "    print(i)\n",
    "    for i in range(5):\n",
    "        print(\"More numbers: \\n\")"
   ]
  },
  {
   "cell_type": "markdown",
   "metadata": {},
   "source": [
    "##### Pass Statement"
   ]
  },
  {
   "cell_type": "code",
   "execution_count": null,
   "metadata": {},
   "outputs": [],
   "source": [
    "# mostly used as a placeholder, and will continue on same iteration"
   ]
  },
  {
   "cell_type": "code",
   "execution_count": null,
   "metadata": {},
   "outputs": [],
   "source": [
    "for i in name:\n",
    "    pass"
   ]
  },
  {
   "cell_type": "markdown",
   "metadata": {},
   "source": [
    "##### Double For Loops"
   ]
  },
  {
   "cell_type": "code",
   "execution_count": 34,
   "metadata": {},
   "outputs": [
    {
     "name": "stdout",
     "output_type": "stream",
     "text": [
      "i =  0 j =  0\n",
      "i =  0 j =  1\n",
      "i =  0 j =  2\n",
      "i =  0 j =  3\n",
      "i =  0 j =  4\n",
      "i =  0 j =  5\n",
      "i =  0 j =  6\n",
      "i =  0 j =  7\n",
      "i =  0 j =  8\n",
      "i =  0 j =  9\n",
      "i =  1 j =  0\n",
      "i =  1 j =  1\n",
      "i =  1 j =  2\n",
      "i =  1 j =  3\n",
      "i =  1 j =  4\n",
      "i =  1 j =  5\n",
      "i =  1 j =  6\n",
      "i =  1 j =  7\n",
      "i =  1 j =  8\n",
      "i =  1 j =  9\n",
      "i =  2 j =  0\n",
      "i =  2 j =  1\n",
      "i =  2 j =  2\n",
      "i =  2 j =  3\n",
      "i =  2 j =  4\n",
      "i =  2 j =  5\n",
      "i =  2 j =  6\n",
      "i =  2 j =  7\n",
      "i =  2 j =  8\n",
      "i =  2 j =  9\n",
      "i =  3 j =  0\n",
      "i =  3 j =  1\n",
      "i =  3 j =  2\n",
      "i =  3 j =  3\n",
      "i =  3 j =  4\n",
      "i =  3 j =  5\n",
      "i =  3 j =  6\n",
      "i =  3 j =  7\n",
      "i =  3 j =  8\n",
      "i =  3 j =  9\n",
      "i =  4 j =  0\n",
      "i =  4 j =  1\n",
      "i =  4 j =  2\n",
      "i =  4 j =  3\n",
      "i =  4 j =  4\n",
      "i =  4 j =  5\n",
      "i =  4 j =  6\n",
      "i =  4 j =  7\n",
      "i =  4 j =  8\n",
      "i =  4 j =  9\n"
     ]
    }
   ],
   "source": [
    "for i in range(5):\n",
    "    for j in range(10):\n",
    "        print(\"i = \", i, \"j = \", j )\n",
    "#[20,4,3,33,1], 33"
   ]
  },
  {
   "cell_type": "markdown",
   "metadata": {},
   "source": [
    "### While Loops"
   ]
  },
  {
   "cell_type": "code",
   "execution_count": 37,
   "metadata": {},
   "outputs": [
    {
     "name": "stdout",
     "output_type": "stream",
     "text": [
      "0\n",
      "1\n",
      "2\n",
      "3\n",
      "4\n",
      "5\n",
      "6\n",
      "7\n",
      "8\n",
      "9\n"
     ]
    }
   ],
   "source": [
    "# based on a conditional statement\n",
    "num = 0\n",
    "\n",
    "while num < 10:\n",
    "    print(num)\n",
    "    num +=1\n",
    "    \n",
    "    \n"
   ]
  },
  {
   "cell_type": "markdown",
   "metadata": {},
   "source": [
    "##### Looping 'While True'"
   ]
  },
  {
   "cell_type": "code",
   "execution_count": 38,
   "metadata": {},
   "outputs": [
    {
     "name": "stdout",
     "output_type": "stream",
     "text": [
      "Infinite Loop\n"
     ]
    }
   ],
   "source": [
    "game_over = False\n",
    "\n",
    "while True:\n",
    "    print(\"Infinite Loop\")\n",
    "    if game_over == False:\n",
    "        break"
   ]
  },
  {
   "cell_type": "markdown",
   "metadata": {},
   "source": [
    "##### While & For Loops Used Together"
   ]
  },
  {
   "cell_type": "code",
   "execution_count": 40,
   "metadata": {},
   "outputs": [
    {
     "name": "stdout",
     "output_type": "stream",
     "text": [
      "While Loop Iteration 0\n",
      "For loop iteration:  0\n",
      "For loop iteration:  1\n",
      "While Loop Iteration 1\n",
      "For loop iteration:  0\n",
      "For loop iteration:  1\n",
      "While Loop Iteration 2\n",
      "For loop iteration:  0\n",
      "For loop iteration:  1\n",
      "While Loop Iteration 3\n",
      "For loop iteration:  0\n",
      "For loop iteration:  1\n",
      "While Loop Iteration 4\n",
      "For loop iteration:  0\n",
      "For loop iteration:  1\n"
     ]
    }
   ],
   "source": [
    "num = 0\n",
    "\n",
    "while num < 5:\n",
    "    print(\"While Loop Iteration \" + str(num))\n",
    "    \n",
    "    for i in range(2):\n",
    "        print(\"For loop iteration: \", str(i))\n",
    "    num +=1"
   ]
  },
  {
   "cell_type": "markdown",
   "metadata": {},
   "source": [
    "### Built-In Functions"
   ]
  },
  {
   "cell_type": "markdown",
   "metadata": {},
   "source": [
    "##### range()"
   ]
  },
  {
   "cell_type": "code",
   "execution_count": 41,
   "metadata": {},
   "outputs": [
    {
     "name": "stdout",
     "output_type": "stream",
     "text": [
      "0\n",
      "2\n",
      "4\n",
      "6\n",
      "8\n",
      "10\n",
      "12\n",
      "14\n",
      "16\n",
      "18\n"
     ]
    }
   ],
   "source": [
    "# start, stop, step\n",
    "for i in range(0,20,2):\n",
    "    print(i)\n"
   ]
  },
  {
   "cell_type": "markdown",
   "metadata": {},
   "source": [
    "##### len()"
   ]
  },
  {
   "cell_type": "code",
   "execution_count": 42,
   "metadata": {},
   "outputs": [
    {
     "name": "stdout",
     "output_type": "stream",
     "text": [
      "3\n"
     ]
    }
   ],
   "source": [
    "# check length of variable\n",
    "name = \"max\"\n",
    "length= len(name)\n",
    "print(length)\n",
    "\n",
    "\n",
    "\n"
   ]
  },
  {
   "cell_type": "markdown",
   "metadata": {},
   "source": [
    "##### help()"
   ]
  },
  {
   "cell_type": "code",
   "execution_count": 43,
   "metadata": {},
   "outputs": [
    {
     "name": "stdout",
     "output_type": "stream",
     "text": [
      "Help on built-in function len in module builtins:\n",
      "\n",
      "len(obj, /)\n",
      "    Return the number of items in a container.\n",
      "\n"
     ]
    }
   ],
   "source": [
    "# to view more information on a python function\n",
    "help(len)\n"
   ]
  },
  {
   "cell_type": "markdown",
   "metadata": {},
   "source": [
    "##### isinstance()"
   ]
  },
  {
   "cell_type": "code",
   "execution_count": 46,
   "metadata": {},
   "outputs": [
    {
     "name": "stdout",
     "output_type": "stream",
     "text": [
      "True\n",
      "This is a float type\n"
     ]
    }
   ],
   "source": [
    "# isinstance(var, type)\n",
    "print(isinstance(4.5, float))\n",
    "\n",
    "if isinstance(4.5, float):\n",
    "    print(\"This is a float type\")\n"
   ]
  },
  {
   "cell_type": "markdown",
   "metadata": {},
   "source": [
    "##### abs()"
   ]
  },
  {
   "cell_type": "code",
   "execution_count": 48,
   "metadata": {},
   "outputs": [
    {
     "name": "stdout",
     "output_type": "stream",
     "text": [
      "5\n"
     ]
    }
   ],
   "source": [
    "# | 5 |\n",
    "print(abs(-5))\n",
    "\n"
   ]
  },
  {
   "cell_type": "markdown",
   "metadata": {},
   "source": [
    "### Try and Except"
   ]
  },
  {
   "cell_type": "code",
   "execution_count": 52,
   "metadata": {},
   "outputs": [
    {
     "name": "stdout",
     "output_type": "stream",
     "text": [
      "guess a number: 7\n",
      "Your number is 7\n"
     ]
    }
   ],
   "source": [
    "# use whenever you expect to encounter a bug so that the error doesn't cause the program to stop\n",
    "try:\n",
    "    number_test = 0\n",
    "    input_num = int(input(\"guess a number: \"))\n",
    "    if input_num != number_test:\n",
    "        input_num = input_num + number_test\n",
    "        print(\"Your number is \" + str(input_num))\n",
    "except:\n",
    "    print(\"That did not work --- Error: Change your input to a number\")\n"
   ]
  },
  {
   "cell_type": "markdown",
   "metadata": {},
   "source": [
    "### Lists"
   ]
  },
  {
   "cell_type": "markdown",
   "metadata": {},
   "source": [
    "##### Declaring Lists"
   ]
  },
  {
   "cell_type": "code",
   "execution_count": 54,
   "metadata": {},
   "outputs": [],
   "source": [
    "list1 = [] #empty list declared\n",
    "\n",
    "names = [\"max\", \"kathy\", \"cindy\", \"bob\"]"
   ]
  },
  {
   "cell_type": "markdown",
   "metadata": {},
   "source": [
    "##### Indexing a List"
   ]
  },
  {
   "cell_type": "code",
   "execution_count": 60,
   "metadata": {},
   "outputs": [
    {
     "name": "stdout",
     "output_type": "stream",
     "text": [
      "max\n",
      "['kathy', 'cindy', 'bob']\n",
      "['max', 'kathy']\n",
      "['kathy']\n",
      "['bob', 'cindy', 'kathy', 'max']\n"
     ]
    }
   ],
   "source": [
    "# [-1], [start: stop: step]\n",
    "print(names[0])\n",
    "\n",
    "#print starting at 1 going to the end\n",
    "print(names[1:])\n",
    "\n",
    "#print starts at the top of list to the second index (not including)\n",
    "print(names[:2])\n",
    "\n",
    "#printstarting at index 1 goes up by 2 each iteration\n",
    "print(names[1::3])\n",
    "\n",
    "#print starting at the back and present reverse order\n",
    "print(names[::-1])\n",
    "\n"
   ]
  },
  {
   "cell_type": "markdown",
   "metadata": {},
   "source": [
    "##### .append()"
   ]
  },
  {
   "cell_type": "code",
   "execution_count": 62,
   "metadata": {},
   "outputs": [
    {
     "name": "stdout",
     "output_type": "stream",
     "text": [
      "['max', 'kathy', 'cindy', 'bob', 'jackie', 'jackie']\n"
     ]
    }
   ],
   "source": [
    "names.append(\"jackie\")\n",
    "print(names)"
   ]
  },
  {
   "cell_type": "markdown",
   "metadata": {},
   "source": [
    "##### .insert()"
   ]
  },
  {
   "cell_type": "code",
   "execution_count": 63,
   "metadata": {},
   "outputs": [
    {
     "name": "stdout",
     "output_type": "stream",
     "text": [
      "['max', 'kathy', 'cindy', 'Jimmy', 'bob', 'jackie', 'jackie']\n"
     ]
    }
   ],
   "source": [
    "# list.insert(index, value)\n",
    "names.insert(3,\"Jimmy\")\n",
    "print(names)\n"
   ]
  },
  {
   "cell_type": "markdown",
   "metadata": {},
   "source": [
    "##### .pop()"
   ]
  },
  {
   "cell_type": "code",
   "execution_count": 64,
   "metadata": {},
   "outputs": [
    {
     "name": "stdout",
     "output_type": "stream",
     "text": [
      "['max', 'kathy', 'cindy', 'Jimmy', 'jackie', 'jackie']\n"
     ]
    }
   ],
   "source": [
    "# default last, param = index\n",
    "# pop returns the element that was removed in case you want to assign it into a variable\n",
    "names.pop(4)\n",
    "print(names)\n"
   ]
  },
  {
   "cell_type": "markdown",
   "metadata": {},
   "source": [
    "\n",
    "##### .remove()"
   ]
  },
  {
   "cell_type": "code",
   "execution_count": 65,
   "metadata": {},
   "outputs": [
    {
     "name": "stdout",
     "output_type": "stream",
     "text": [
      "['max', 'kathy', 'cindy', 'Jimmy', 'jackie']\n"
     ]
    }
   ],
   "source": [
    "# value to be removed, not index\n",
    "names.remove(\"jackie\")\n",
    "print(names)\n"
   ]
  },
  {
   "cell_type": "markdown",
   "metadata": {},
   "source": [
    "##### del()"
   ]
  },
  {
   "cell_type": "code",
   "execution_count": 66,
   "metadata": {},
   "outputs": [
    {
     "name": "stdout",
     "output_type": "stream",
     "text": [
      "['max', 'kathy', 'cindy', 'Jimmy']\n"
     ]
    }
   ],
   "source": [
    "# index to be removed, not value\n",
    "# be careful with del, can cause indexing errors\n",
    "del(names[4])\n",
    "print(names)"
   ]
  },
  {
   "cell_type": "markdown",
   "metadata": {},
   "source": [
    "##### Concatenating Two Lists"
   ]
  },
  {
   "cell_type": "code",
   "execution_count": 67,
   "metadata": {},
   "outputs": [
    {
     "name": "stdout",
     "output_type": "stream",
     "text": [
      "[0, 1, 2, 3, 4, 3, 4, 5, 6]\n"
     ]
    }
   ],
   "source": [
    "# will append two lists together, not add up elements in each list\n",
    "list1 = [0,1,2,3,4]\n",
    "list2 = [3,4,5,6]\n",
    "\n",
    "large_list = list1 + list2\n",
    "print(large_list)\n"
   ]
  },
  {
   "cell_type": "markdown",
   "metadata": {},
   "source": [
    "##### Lists Within Lists"
   ]
  },
  {
   "cell_type": "code",
   "execution_count": 74,
   "metadata": {},
   "outputs": [
    {
     "name": "stdout",
     "output_type": "stream",
     "text": [
      "['Max', 'Sam', 'josh', ['sally', 'sue', 'tameka']]\n",
      "sue\n",
      "['Max', 'Sam', 'josh', ['sally', 'sue', 'tameka']]\n"
     ]
    }
   ],
   "source": [
    "# lists are able to hold any type of elements, including lists themselves\n",
    "# they can also go as deep as you want, having many lists inside of each other\n",
    "names = [\"Max\", \"Sam\", \"josh\", [\"sally\", \"sue\", \"tameka\"]]\n",
    "\n",
    "print(names)\n",
    "print(names[3][1])\n",
    "print(names)\n"
   ]
  },
  {
   "cell_type": "markdown",
   "metadata": {},
   "source": [
    "##### Looping Through Lists"
   ]
  },
  {
   "cell_type": "code",
   "execution_count": 75,
   "metadata": {},
   "outputs": [
    {
     "name": "stdout",
     "output_type": "stream",
     "text": [
      "Max\n",
      "Sam\n",
      "josh\n",
      "['sally', 'sue', 'tameka']\n"
     ]
    }
   ],
   "source": [
    "# two ways to loop through a list, one is by index, the other is using the 'in' keyword\n",
    "\n",
    "#loop with for a loop (by index)\n",
    "\n",
    "for i in range(len(names)):\n",
    "    print(names[i])\n"
   ]
  },
  {
   "cell_type": "markdown",
   "metadata": {},
   "source": [
    "## Exercise #1 <br>\n",
    "<p>Cube Number Test... Print out all cubed numbers up to the total value 1000, so if the cubed number is over 1000 break the loop.</p>"
   ]
  },
  {
   "cell_type": "code",
   "execution_count": 2,
   "metadata": {},
   "outputs": [
    {
     "name": "stdout",
     "output_type": "stream",
     "text": [
      "1\n",
      "8\n",
      "27\n",
      "64\n",
      "125\n",
      "216\n",
      "343\n",
      "512\n",
      "729\n",
      "1000\n",
      "1331\n",
      "1728\n",
      "2197\n",
      "2744\n",
      "3375\n",
      "4096\n",
      "4913\n",
      "5832\n",
      "6859\n",
      "8000\n",
      "9261\n",
      "10648\n",
      "12167\n",
      "13824\n",
      "15625\n",
      "17576\n",
      "19683\n",
      "21952\n",
      "24389\n",
      "27000\n",
      "29791\n",
      "32768\n",
      "35937\n",
      "39304\n",
      "42875\n",
      "46656\n",
      "50653\n",
      "54872\n",
      "59319\n",
      "64000\n",
      "68921\n",
      "74088\n",
      "79507\n",
      "85184\n",
      "91125\n",
      "97336\n",
      "103823\n",
      "110592\n",
      "117649\n",
      "125000\n",
      "132651\n",
      "140608\n",
      "148877\n",
      "157464\n",
      "166375\n",
      "175616\n",
      "185193\n",
      "195112\n",
      "205379\n",
      "216000\n",
      "226981\n",
      "238328\n",
      "250047\n",
      "262144\n",
      "274625\n",
      "287496\n",
      "300763\n",
      "314432\n",
      "328509\n",
      "343000\n",
      "357911\n",
      "373248\n",
      "389017\n",
      "405224\n",
      "421875\n",
      "438976\n",
      "456533\n",
      "474552\n",
      "493039\n",
      "512000\n",
      "531441\n",
      "551368\n",
      "571787\n",
      "592704\n",
      "614125\n",
      "636056\n",
      "658503\n",
      "681472\n",
      "704969\n",
      "729000\n",
      "753571\n",
      "778688\n",
      "804357\n",
      "830584\n",
      "857375\n",
      "884736\n",
      "912673\n",
      "941192\n",
      "970299\n",
      "1000000\n",
      "1030301\n",
      "1061208\n",
      "1092727\n",
      "1124864\n",
      "1157625\n",
      "1191016\n",
      "1225043\n",
      "1259712\n",
      "1295029\n",
      "1331000\n",
      "1367631\n",
      "1404928\n",
      "1442897\n",
      "1481544\n",
      "1520875\n",
      "1560896\n",
      "1601613\n",
      "1643032\n",
      "1685159\n",
      "1728000\n",
      "1771561\n",
      "1815848\n",
      "1860867\n",
      "1906624\n",
      "1953125\n",
      "2000376\n",
      "2048383\n",
      "2097152\n",
      "2146689\n",
      "2197000\n",
      "2248091\n",
      "2299968\n",
      "2352637\n",
      "2406104\n",
      "2460375\n",
      "2515456\n",
      "2571353\n",
      "2628072\n",
      "2685619\n",
      "2744000\n",
      "2803221\n",
      "2863288\n",
      "2924207\n",
      "2985984\n",
      "3048625\n",
      "3112136\n",
      "3176523\n",
      "3241792\n",
      "3307949\n",
      "3375000\n",
      "3442951\n",
      "3511808\n",
      "3581577\n",
      "3652264\n",
      "3723875\n",
      "3796416\n",
      "3869893\n",
      "3944312\n",
      "4019679\n",
      "4096000\n",
      "4173281\n",
      "4251528\n",
      "4330747\n",
      "4410944\n",
      "4492125\n",
      "4574296\n",
      "4657463\n",
      "4741632\n",
      "4826809\n",
      "4913000\n",
      "5000211\n",
      "5088448\n",
      "5177717\n",
      "5268024\n",
      "5359375\n",
      "5451776\n",
      "5545233\n",
      "5639752\n",
      "5735339\n",
      "5832000\n",
      "5929741\n",
      "6028568\n",
      "6128487\n",
      "6229504\n",
      "6331625\n",
      "6434856\n",
      "6539203\n",
      "6644672\n",
      "6751269\n",
      "6859000\n",
      "6967871\n",
      "7077888\n",
      "7189057\n",
      "7301384\n",
      "7414875\n",
      "7529536\n",
      "7645373\n",
      "7762392\n",
      "7880599\n",
      "8000000\n",
      "8120601\n",
      "8242408\n",
      "8365427\n",
      "8489664\n",
      "8615125\n",
      "8741816\n",
      "8869743\n",
      "8998912\n",
      "9129329\n",
      "9261000\n",
      "9393931\n",
      "9528128\n",
      "9663597\n",
      "9800344\n",
      "9938375\n",
      "10077696\n",
      "10218313\n",
      "10360232\n",
      "10503459\n",
      "10648000\n",
      "10793861\n",
      "10941048\n",
      "11089567\n",
      "11239424\n",
      "11390625\n",
      "11543176\n",
      "11697083\n",
      "11852352\n",
      "12008989\n",
      "12167000\n",
      "12326391\n",
      "12487168\n",
      "12649337\n",
      "12812904\n",
      "12977875\n",
      "13144256\n",
      "13312053\n",
      "13481272\n",
      "13651919\n",
      "13824000\n",
      "13997521\n",
      "14172488\n",
      "14348907\n",
      "14526784\n",
      "14706125\n",
      "14886936\n",
      "15069223\n",
      "15252992\n",
      "15438249\n",
      "15625000\n",
      "15813251\n",
      "16003008\n",
      "16194277\n",
      "16387064\n",
      "16581375\n",
      "16777216\n",
      "16974593\n",
      "17173512\n",
      "17373979\n",
      "17576000\n",
      "17779581\n",
      "17984728\n",
      "18191447\n",
      "18399744\n",
      "18609625\n",
      "18821096\n",
      "19034163\n",
      "19248832\n",
      "19465109\n",
      "19683000\n",
      "19902511\n",
      "20123648\n",
      "20346417\n",
      "20570824\n",
      "20796875\n",
      "21024576\n",
      "21253933\n",
      "21484952\n",
      "21717639\n",
      "21952000\n",
      "22188041\n",
      "22425768\n",
      "22665187\n",
      "22906304\n",
      "23149125\n",
      "23393656\n",
      "23639903\n",
      "23887872\n",
      "24137569\n",
      "24389000\n",
      "24642171\n",
      "24897088\n",
      "25153757\n",
      "25412184\n",
      "25672375\n",
      "25934336\n",
      "26198073\n",
      "26463592\n",
      "26730899\n",
      "27000000\n",
      "27270901\n",
      "27543608\n",
      "27818127\n",
      "28094464\n",
      "28372625\n",
      "28652616\n",
      "28934443\n",
      "29218112\n",
      "29503629\n",
      "29791000\n",
      "30080231\n",
      "30371328\n",
      "30664297\n",
      "30959144\n",
      "31255875\n",
      "31554496\n",
      "31855013\n",
      "32157432\n",
      "32461759\n",
      "32768000\n",
      "33076161\n",
      "33386248\n",
      "33698267\n",
      "34012224\n",
      "34328125\n",
      "34645976\n",
      "34965783\n",
      "35287552\n",
      "35611289\n",
      "35937000\n",
      "36264691\n",
      "36594368\n",
      "36926037\n",
      "37259704\n",
      "37595375\n",
      "37933056\n",
      "38272753\n",
      "38614472\n",
      "38958219\n",
      "39304000\n",
      "39651821\n",
      "40001688\n",
      "40353607\n",
      "40707584\n",
      "41063625\n",
      "41421736\n",
      "41781923\n",
      "42144192\n",
      "42508549\n",
      "42875000\n",
      "43243551\n",
      "43614208\n",
      "43986977\n",
      "44361864\n",
      "44738875\n",
      "45118016\n",
      "45499293\n",
      "45882712\n",
      "46268279\n",
      "46656000\n",
      "47045881\n",
      "47437928\n",
      "47832147\n",
      "48228544\n",
      "48627125\n",
      "49027896\n",
      "49430863\n",
      "49836032\n",
      "50243409\n",
      "50653000\n",
      "51064811\n",
      "51478848\n",
      "51895117\n",
      "52313624\n",
      "52734375\n",
      "53157376\n",
      "53582633\n",
      "54010152\n",
      "54439939\n",
      "54872000\n",
      "55306341\n",
      "55742968\n",
      "56181887\n",
      "56623104\n",
      "57066625\n",
      "57512456\n",
      "57960603\n",
      "58411072\n",
      "58863869\n",
      "59319000\n",
      "59776471\n",
      "60236288\n",
      "60698457\n",
      "61162984\n",
      "61629875\n",
      "62099136\n",
      "62570773\n",
      "63044792\n",
      "63521199\n",
      "64000000\n",
      "64481201\n",
      "64964808\n",
      "65450827\n",
      "65939264\n",
      "66430125\n",
      "66923416\n",
      "67419143\n",
      "67917312\n",
      "68417929\n",
      "68921000\n",
      "69426531\n",
      "69934528\n",
      "70444997\n",
      "70957944\n",
      "71473375\n",
      "71991296\n",
      "72511713\n",
      "73034632\n",
      "73560059\n",
      "74088000\n",
      "74618461\n",
      "75151448\n",
      "75686967\n",
      "76225024\n",
      "76765625\n",
      "77308776\n",
      "77854483\n",
      "78402752\n",
      "78953589\n",
      "79507000\n",
      "80062991\n",
      "80621568\n",
      "81182737\n",
      "81746504\n",
      "82312875\n",
      "82881856\n",
      "83453453\n",
      "84027672\n",
      "84604519\n",
      "85184000\n",
      "85766121\n",
      "86350888\n",
      "86938307\n",
      "87528384\n",
      "88121125\n",
      "88716536\n",
      "89314623\n",
      "89915392\n",
      "90518849\n",
      "91125000\n",
      "91733851\n",
      "92345408\n",
      "92959677\n",
      "93576664\n",
      "94196375\n",
      "94818816\n",
      "95443993\n",
      "96071912\n",
      "96702579\n",
      "97336000\n",
      "97972181\n",
      "98611128\n",
      "99252847\n",
      "99897344\n",
      "100544625\n",
      "101194696\n",
      "101847563\n",
      "102503232\n",
      "103161709\n",
      "103823000\n",
      "104487111\n",
      "105154048\n",
      "105823817\n",
      "106496424\n",
      "107171875\n",
      "107850176\n",
      "108531333\n",
      "109215352\n",
      "109902239\n",
      "110592000\n",
      "111284641\n",
      "111980168\n",
      "112678587\n",
      "113379904\n",
      "114084125\n",
      "114791256\n",
      "115501303\n",
      "116214272\n",
      "116930169\n",
      "117649000\n",
      "118370771\n",
      "119095488\n",
      "119823157\n",
      "120553784\n",
      "121287375\n",
      "122023936\n",
      "122763473\n",
      "123505992\n",
      "124251499\n",
      "125000000\n",
      "125751501\n",
      "126506008\n",
      "127263527\n",
      "128024064\n",
      "128787625\n",
      "129554216\n",
      "130323843\n",
      "131096512\n",
      "131872229\n",
      "132651000\n",
      "133432831\n",
      "134217728\n",
      "135005697\n",
      "135796744\n",
      "136590875\n",
      "137388096\n",
      "138188413\n",
      "138991832\n",
      "139798359\n",
      "140608000\n",
      "141420761\n",
      "142236648\n",
      "143055667\n",
      "143877824\n",
      "144703125\n",
      "145531576\n",
      "146363183\n",
      "147197952\n",
      "148035889\n",
      "148877000\n",
      "149721291\n",
      "150568768\n",
      "151419437\n",
      "152273304\n",
      "153130375\n",
      "153990656\n",
      "154854153\n",
      "155720872\n",
      "156590819\n",
      "157464000\n",
      "158340421\n",
      "159220088\n",
      "160103007\n",
      "160989184\n",
      "161878625\n",
      "162771336\n",
      "163667323\n",
      "164566592\n",
      "165469149\n",
      "166375000\n",
      "167284151\n",
      "168196608\n",
      "169112377\n",
      "170031464\n",
      "170953875\n",
      "171879616\n",
      "172808693\n",
      "173741112\n",
      "174676879\n",
      "175616000\n",
      "176558481\n",
      "177504328\n",
      "178453547\n",
      "179406144\n",
      "180362125\n",
      "181321496\n",
      "182284263\n",
      "183250432\n",
      "184220009\n",
      "185193000\n",
      "186169411\n",
      "187149248\n",
      "188132517\n",
      "189119224\n",
      "190109375\n",
      "191102976\n",
      "192100033\n",
      "193100552\n",
      "194104539\n",
      "195112000\n",
      "196122941\n",
      "197137368\n",
      "198155287\n",
      "199176704\n",
      "200201625\n",
      "201230056\n",
      "202262003\n",
      "203297472\n",
      "204336469\n",
      "205379000\n",
      "206425071\n",
      "207474688\n",
      "208527857\n",
      "209584584\n",
      "210644875\n",
      "211708736\n",
      "212776173\n",
      "213847192\n",
      "214921799\n",
      "216000000\n",
      "217081801\n",
      "218167208\n",
      "219256227\n",
      "220348864\n",
      "221445125\n",
      "222545016\n",
      "223648543\n",
      "224755712\n",
      "225866529\n",
      "226981000\n",
      "228099131\n",
      "229220928\n",
      "230346397\n",
      "231475544\n",
      "232608375\n",
      "233744896\n",
      "234885113\n",
      "236029032\n",
      "237176659\n",
      "238328000\n",
      "239483061\n",
      "240641848\n",
      "241804367\n",
      "242970624\n",
      "244140625\n",
      "245314376\n",
      "246491883\n",
      "247673152\n",
      "248858189\n",
      "250047000\n",
      "251239591\n",
      "252435968\n",
      "253636137\n",
      "254840104\n",
      "256047875\n",
      "257259456\n",
      "258474853\n",
      "259694072\n",
      "260917119\n",
      "262144000\n",
      "263374721\n",
      "264609288\n",
      "265847707\n",
      "267089984\n",
      "268336125\n",
      "269586136\n",
      "270840023\n",
      "272097792\n",
      "273359449\n",
      "274625000\n",
      "275894451\n",
      "277167808\n",
      "278445077\n",
      "279726264\n",
      "281011375\n",
      "282300416\n",
      "283593393\n",
      "284890312\n",
      "286191179\n",
      "287496000\n",
      "288804781\n",
      "290117528\n",
      "291434247\n",
      "292754944\n",
      "294079625\n",
      "295408296\n",
      "296740963\n",
      "298077632\n",
      "299418309\n",
      "300763000\n",
      "302111711\n",
      "303464448\n",
      "304821217\n",
      "306182024\n",
      "307546875\n",
      "308915776\n",
      "310288733\n",
      "311665752\n",
      "313046839\n",
      "314432000\n",
      "315821241\n",
      "317214568\n",
      "318611987\n",
      "320013504\n",
      "321419125\n",
      "322828856\n",
      "324242703\n",
      "325660672\n",
      "327082769\n",
      "328509000\n",
      "329939371\n",
      "331373888\n",
      "332812557\n",
      "334255384\n",
      "335702375\n",
      "337153536\n",
      "338608873\n",
      "340068392\n",
      "341532099\n",
      "343000000\n",
      "344472101\n",
      "345948408\n",
      "347428927\n",
      "348913664\n",
      "350402625\n",
      "351895816\n",
      "353393243\n",
      "354894912\n",
      "356400829\n",
      "357911000\n",
      "359425431\n",
      "360944128\n",
      "362467097\n",
      "363994344\n",
      "365525875\n",
      "367061696\n",
      "368601813\n",
      "370146232\n",
      "371694959\n",
      "373248000\n",
      "374805361\n",
      "376367048\n",
      "377933067\n",
      "379503424\n",
      "381078125\n",
      "382657176\n",
      "384240583\n",
      "385828352\n",
      "387420489\n",
      "389017000\n",
      "390617891\n",
      "392223168\n",
      "393832837\n",
      "395446904\n",
      "397065375\n",
      "398688256\n",
      "400315553\n",
      "401947272\n",
      "403583419\n",
      "405224000\n",
      "406869021\n",
      "408518488\n",
      "410172407\n",
      "411830784\n",
      "413493625\n",
      "415160936\n",
      "416832723\n",
      "418508992\n",
      "420189749\n",
      "421875000\n",
      "423564751\n",
      "425259008\n",
      "426957777\n",
      "428661064\n",
      "430368875\n",
      "432081216\n",
      "433798093\n",
      "435519512\n",
      "437245479\n",
      "438976000\n",
      "440711081\n",
      "442450728\n",
      "444194947\n",
      "445943744\n",
      "447697125\n",
      "449455096\n",
      "451217663\n",
      "452984832\n",
      "454756609\n",
      "456533000\n",
      "458314011\n",
      "460099648\n",
      "461889917\n",
      "463684824\n",
      "465484375\n",
      "467288576\n",
      "469097433\n",
      "470910952\n",
      "472729139\n",
      "474552000\n",
      "476379541\n",
      "478211768\n",
      "480048687\n",
      "481890304\n",
      "483736625\n",
      "485587656\n",
      "487443403\n",
      "489303872\n",
      "491169069\n",
      "493039000\n",
      "494913671\n",
      "496793088\n",
      "498677257\n",
      "500566184\n",
      "502459875\n",
      "504358336\n",
      "506261573\n",
      "508169592\n",
      "510082399\n",
      "512000000\n",
      "513922401\n",
      "515849608\n",
      "517781627\n",
      "519718464\n",
      "521660125\n",
      "523606616\n",
      "525557943\n",
      "527514112\n",
      "529475129\n",
      "531441000\n",
      "533411731\n",
      "535387328\n",
      "537367797\n",
      "539353144\n",
      "541343375\n",
      "543338496\n",
      "545338513\n",
      "547343432\n",
      "549353259\n",
      "551368000\n",
      "553387661\n",
      "555412248\n",
      "557441767\n",
      "559476224\n",
      "561515625\n",
      "563559976\n",
      "565609283\n",
      "567663552\n",
      "569722789\n",
      "571787000\n",
      "573856191\n",
      "575930368\n",
      "578009537\n",
      "580093704\n",
      "582182875\n",
      "584277056\n",
      "586376253\n",
      "588480472\n",
      "590589719\n",
      "592704000\n",
      "594823321\n",
      "596947688\n",
      "599077107\n",
      "601211584\n",
      "603351125\n",
      "605495736\n",
      "607645423\n",
      "609800192\n",
      "611960049\n",
      "614125000\n",
      "616295051\n",
      "618470208\n",
      "620650477\n",
      "622835864\n",
      "625026375\n",
      "627222016\n",
      "629422793\n",
      "631628712\n",
      "633839779\n",
      "636056000\n",
      "638277381\n",
      "640503928\n",
      "642735647\n",
      "644972544\n",
      "647214625\n",
      "649461896\n",
      "651714363\n",
      "653972032\n",
      "656234909\n",
      "658503000\n",
      "660776311\n",
      "663054848\n",
      "665338617\n",
      "667627624\n",
      "669921875\n",
      "672221376\n",
      "674526133\n",
      "676836152\n",
      "679151439\n",
      "681472000\n",
      "683797841\n",
      "686128968\n",
      "688465387\n",
      "690807104\n",
      "693154125\n",
      "695506456\n",
      "697864103\n",
      "700227072\n",
      "702595369\n",
      "704969000\n",
      "707347971\n",
      "709732288\n",
      "712121957\n",
      "714516984\n",
      "716917375\n",
      "719323136\n",
      "721734273\n",
      "724150792\n",
      "726572699\n",
      "729000000\n",
      "731432701\n",
      "733870808\n",
      "736314327\n",
      "738763264\n",
      "741217625\n",
      "743677416\n",
      "746142643\n",
      "748613312\n",
      "751089429\n",
      "753571000\n",
      "756058031\n",
      "758550528\n",
      "761048497\n",
      "763551944\n",
      "766060875\n",
      "768575296\n",
      "771095213\n",
      "773620632\n",
      "776151559\n",
      "778688000\n",
      "781229961\n",
      "783777448\n",
      "786330467\n",
      "788889024\n",
      "791453125\n",
      "794022776\n",
      "796597983\n",
      "799178752\n",
      "801765089\n",
      "804357000\n",
      "806954491\n",
      "809557568\n",
      "812166237\n",
      "814780504\n",
      "817400375\n",
      "820025856\n",
      "822656953\n",
      "825293672\n",
      "827936019\n",
      "830584000\n",
      "833237621\n",
      "835896888\n",
      "838561807\n",
      "841232384\n",
      "843908625\n",
      "846590536\n",
      "849278123\n",
      "851971392\n",
      "854670349\n",
      "857375000\n",
      "860085351\n",
      "862801408\n",
      "865523177\n",
      "868250664\n",
      "870983875\n",
      "873722816\n",
      "876467493\n",
      "879217912\n",
      "881974079\n",
      "884736000\n",
      "887503681\n",
      "890277128\n",
      "893056347\n",
      "895841344\n",
      "898632125\n",
      "901428696\n",
      "904231063\n",
      "907039232\n",
      "909853209\n",
      "912673000\n",
      "915498611\n",
      "918330048\n",
      "921167317\n",
      "924010424\n",
      "926859375\n",
      "929714176\n",
      "932574833\n",
      "935441352\n",
      "938313739\n",
      "941192000\n",
      "944076141\n",
      "946966168\n",
      "949862087\n",
      "952763904\n",
      "955671625\n",
      "958585256\n",
      "961504803\n",
      "964430272\n",
      "967361669\n",
      "970299000\n",
      "973242271\n",
      "976191488\n",
      "979146657\n",
      "982107784\n",
      "985074875\n",
      "988047936\n",
      "991026973\n",
      "994011992\n",
      "997002999\n"
     ]
    }
   ],
   "source": [
    "for x in range(1, 1000):\n",
    "  cube = x ** 3\n",
    "  print(cube)"
   ]
  },
  {
   "cell_type": "markdown",
   "metadata": {},
   "source": [
    "## Exercise #2 <br>\n",
    "<p>Get first 100 Prime Numbers</p>"
   ]
  },
  {
   "cell_type": "code",
   "execution_count": 19,
   "metadata": {},
   "outputs": [
    {
     "name": "stdout",
     "output_type": "stream",
     "text": [
      "1\n",
      "3\n",
      "5\n",
      "7\n",
      "9\n",
      "11\n",
      "13\n",
      "15\n",
      "17\n",
      "19\n",
      "21\n",
      "23\n",
      "25\n",
      "27\n",
      "29\n",
      "31\n",
      "33\n",
      "35\n",
      "37\n",
      "39\n",
      "41\n",
      "43\n",
      "45\n",
      "47\n",
      "49\n",
      "51\n",
      "53\n",
      "55\n",
      "57\n",
      "59\n",
      "61\n",
      "63\n",
      "65\n",
      "67\n",
      "69\n",
      "71\n",
      "73\n",
      "75\n",
      "77\n",
      "79\n",
      "81\n",
      "83\n",
      "85\n",
      "87\n",
      "89\n",
      "91\n",
      "93\n",
      "95\n",
      "97\n",
      "99\n",
      "101\n",
      "103\n",
      "105\n",
      "107\n",
      "109\n",
      "111\n",
      "113\n",
      "115\n",
      "117\n",
      "119\n",
      "121\n",
      "123\n",
      "125\n",
      "127\n",
      "129\n",
      "131\n",
      "133\n",
      "135\n",
      "137\n",
      "139\n",
      "141\n",
      "143\n",
      "145\n",
      "147\n",
      "149\n",
      "151\n",
      "153\n",
      "155\n",
      "157\n",
      "159\n",
      "161\n",
      "163\n",
      "165\n",
      "167\n",
      "169\n",
      "171\n",
      "173\n",
      "175\n",
      "177\n",
      "179\n",
      "181\n",
      "183\n",
      "185\n",
      "187\n",
      "189\n",
      "191\n",
      "193\n",
      "195\n",
      "197\n",
      "199\n",
      "201\n",
      "203\n",
      "205\n",
      "207\n",
      "209\n",
      "211\n",
      "213\n",
      "215\n",
      "217\n",
      "219\n",
      "221\n",
      "223\n",
      "225\n",
      "227\n",
      "229\n",
      "231\n",
      "233\n",
      "235\n",
      "237\n",
      "239\n",
      "241\n",
      "243\n",
      "245\n",
      "247\n",
      "249\n",
      "251\n",
      "253\n",
      "255\n",
      "257\n",
      "259\n",
      "261\n",
      "263\n",
      "265\n",
      "267\n",
      "269\n",
      "271\n",
      "273\n",
      "275\n",
      "277\n",
      "279\n",
      "281\n",
      "283\n",
      "285\n",
      "287\n",
      "289\n",
      "291\n",
      "293\n",
      "295\n",
      "297\n",
      "299\n",
      "301\n",
      "303\n",
      "305\n",
      "307\n",
      "309\n",
      "311\n",
      "313\n",
      "315\n",
      "317\n",
      "319\n",
      "321\n",
      "323\n",
      "325\n",
      "327\n",
      "329\n",
      "331\n",
      "333\n",
      "335\n",
      "337\n",
      "339\n",
      "341\n",
      "343\n",
      "345\n",
      "347\n",
      "349\n",
      "351\n",
      "353\n",
      "355\n",
      "357\n",
      "359\n",
      "361\n",
      "363\n",
      "365\n",
      "367\n",
      "369\n",
      "371\n",
      "373\n",
      "375\n",
      "377\n",
      "379\n",
      "381\n",
      "383\n",
      "385\n",
      "387\n",
      "389\n",
      "391\n",
      "393\n",
      "395\n",
      "397\n",
      "399\n",
      "401\n",
      "403\n",
      "405\n",
      "407\n",
      "409\n",
      "411\n",
      "413\n",
      "415\n",
      "417\n",
      "419\n",
      "421\n",
      "423\n",
      "425\n",
      "427\n",
      "429\n",
      "431\n",
      "433\n",
      "435\n",
      "437\n",
      "439\n",
      "441\n",
      "443\n",
      "445\n",
      "447\n",
      "449\n",
      "451\n",
      "453\n",
      "455\n",
      "457\n",
      "459\n",
      "461\n",
      "463\n",
      "465\n",
      "467\n",
      "469\n",
      "471\n",
      "473\n",
      "475\n",
      "477\n",
      "479\n",
      "481\n",
      "483\n",
      "485\n",
      "487\n",
      "489\n",
      "491\n",
      "493\n",
      "495\n",
      "497\n",
      "499\n",
      "501\n",
      "503\n",
      "505\n",
      "507\n",
      "509\n",
      "511\n",
      "513\n",
      "515\n",
      "517\n",
      "519\n",
      "521\n",
      "523\n",
      "525\n",
      "527\n",
      "529\n",
      "531\n",
      "533\n",
      "535\n",
      "537\n",
      "539\n",
      "541\n"
     ]
    }
   ],
   "source": [
    "# HINT::\n",
    "# An else after an if runs if the if didn’t\n",
    "# An else after a for runs if the for didn’t break\n",
    "for i in range(1,542): \n",
    "    if (i % 2) != 0:\n",
    "        print(i)\n",
    "        \n",
    "    \n",
    "\n"
   ]
  },
  {
   "cell_type": "markdown",
   "metadata": {},
   "source": [
    "# Exercise 3 <br>\n",
    "<p>Take in a users input for their age, if they are younger than 18 print kids, if they're 18 to 65 print adults, else print seniors</p>"
   ]
  },
  {
   "cell_type": "code",
   "execution_count": 11,
   "metadata": {},
   "outputs": [
    {
     "name": "stdout",
     "output_type": "stream",
     "text": [
      "What is your age?10\n",
      "You are a kid.\n"
     ]
    }
   ],
   "source": [
    "age = int(input(\"What is your age?\"))\n",
    "if age < 18:\n",
    "    print(\"You are a kid.\")\n",
    "elif age <= 65:\n",
    "    print(\"You are an adult.\")\n",
    "else:\n",
    "    print(\"You are a senior\")"
   ]
  }
 ],
 "metadata": {
  "kernelspec": {
   "display_name": "Python 3",
   "language": "python",
   "name": "python3"
  }
 },
 "nbformat": 4,
 "nbformat_minor": 2
}
